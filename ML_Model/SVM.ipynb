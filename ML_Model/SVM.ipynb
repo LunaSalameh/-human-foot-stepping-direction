{
 "cells": [
  {
   "cell_type": "code",
   "execution_count": 1,
   "id": "c395be0d",
   "metadata": {},
   "outputs": [],
   "source": [
    "from sklearn import datasets\n",
    "from sklearn.model_selection import GridSearchCV,train_test_split, cross_val_score\n",
    "from sklearn.svm import SVC\n",
    "from sklearn.metrics import confusion_matrix,classification_report,mean_squared_error,accuracy_score, f1_score\n",
    "import pandas as pd, numpy as np, matplotlib.pyplot as plt, os, sys, seaborn as sns"
   ]
  },
  {
   "cell_type": "code",
   "execution_count": 7,
   "id": "0b19cbbc",
   "metadata": {},
   "outputs": [],
   "source": [
    "def warn(*args, **kwargs):\n",
    "    pass\n",
    "import warnings\n",
    "warnings.warn = warn\n",
    "warnings.filterwarnings('ignore')"
   ]
  },
  {
   "cell_type": "code",
   "execution_count": 3,
   "id": "99650f7f",
   "metadata": {},
   "outputs": [
    {
     "name": "stdout",
     "output_type": "stream",
     "text": [
      "(202, 114) (202, 1)\n"
     ]
    }
   ],
   "source": [
    "data = pd.read_csv(\"july/first_week/feat_ext64_mpu1.csv\")\n",
    "data.dtypes.value_counts()\n",
    "Class = pd.read_csv(\"july/first_week/Ymotion_resize64_fe_mpu1.csv\")\n",
    "print(data.shape,Class.shape)"
   ]
  },
  {
   "cell_type": "code",
   "execution_count": 4,
   "id": "8bddf258",
   "metadata": {},
   "outputs": [],
   "source": [
    "# Load the iris dataset (as an example)\n",
    "y, X = Class, data"
   ]
  },
  {
   "cell_type": "code",
   "execution_count": 12,
   "id": "21b0e401",
   "metadata": {},
   "outputs": [
    {
     "data": {
      "text/plain": [
       "Class\n",
       "5.0      15\n",
       "3.0      13\n",
       "2.0      12\n",
       "4.0      11\n",
       "1.0      10\n",
       "Name: count, dtype: int64"
      ]
     },
     "execution_count": 12,
     "metadata": {},
     "output_type": "execute_result"
    }
   ],
   "source": [
    "# Split the data into training and test sets\n",
    "X_train, X_test, y_train, y_test = train_test_split(X, y, test_size=0.3, random_state=42)\n",
    "\n",
    "y_test.value_counts()"
   ]
  },
  {
   "cell_type": "code",
   "execution_count": 13,
   "id": "ebeb3a9d",
   "metadata": {},
   "outputs": [],
   "source": [
    "mean_Xtrain = X_train.mean()\n",
    "std_Xtrain = X_train.std()\n",
    "\n",
    "zscores_Xtrain = (X_train - mean_Xtrain)/std_Xtrain\n",
    "zscores_Xtest = (X_test - mean_Xtrain)/std_Xtrain"
   ]
  },
  {
   "cell_type": "code",
   "execution_count": 10,
   "id": "f3867832",
   "metadata": {},
   "outputs": [],
   "source": [
    "from sklearn.model_selection import KFold\n",
    "\n",
    "# 10-fold Cross falidation\n",
    "# Define the number of folds\n",
    "n_splits = 10\n",
    "\n",
    "# Initialize the KFold object\n",
    "kf = KFold(n_splits=n_splits, shuffle=True, random_state=42)\n",
    "\n",
    "# Initialize a list to store the mean squared error for each fold\n",
    "mse_list = []\n",
    "Accuracy_list = []\n",
    "F1_list = []\n",
    "\n",
    "# Loop over the folds\n",
    "for train_index, test_index in kf.split(X):\n",
    "    \n",
    "    # Split the data into training and testing sets\n",
    "    X_train, X_test = X.iloc[train_index], X.iloc[test_index]\n",
    "    y_train, y_test = y.iloc[train_index], y.iloc[test_index]\n",
    "    \n",
    "    # Normalize z-score\n",
    "    mean_Xtrain = X_train.mean()\n",
    "    std_Xtrain = X_train.std()\n",
    "\n",
    "    zscores_Xtrain = (X_train - mean_Xtrain)/std_Xtrain\n",
    "    zscores_Xtest = (X_test - mean_Xtrain)/std_Xtrain\n",
    "    \n",
    "    # Train your model on the training set\n",
    "    model = SVC(kernel='linear', C=10, decision_function_shape='ovr')\n",
    "    model.fit(zscores_Xtrain, y_train)\n",
    "    \n",
    "    # Test your model on the testing set\n",
    "    y_pred = model.predict(zscores_Xtest)\n",
    "    \n",
    "    # Calculate the mean squared error and append it to the mse_list\n",
    "    mse = mean_squared_error(y_test, y_pred)\n",
    "    mse_list.append(mse)\n",
    "    \n",
    "    # Calculate the Accuracy\n",
    "    Accuracy_list.append(accuracy_score(y_test, y_pred))\n",
    "    \n",
    "    # Calculate the F1 Score\n",
    "    F1_list.append(f1_score(y_test, y_pred, average='macro'))\n",
    "\n",
    "# Calculate the mean and standard deviation of the mean squared error across all folds\n",
    "mean_mse = np.mean(mse_list)\n",
    "std_mse = np.std(mse_list)\n",
    "\n",
    "\n",
    "mean_Accu_scr = round(np.mean(Accuracy_list),2)\n",
    "std_Accu_scr = round(np.std(Accuracy_list),2)\n",
    "\n",
    "mean_f1 = round(np.mean(F1_list),2)\n",
    "std_f1 = round(np.std(F1_list),2)"
   ]
  },
  {
   "cell_type": "code",
   "execution_count": 11,
   "id": "881331d3",
   "metadata": {},
   "outputs": [
    {
     "name": "stdout",
     "output_type": "stream",
     "text": [
      "Mean squared error: 0.30 +/- 0.37\n",
      "Accuracy score: 0.94 +/- 0.07\n",
      "F1 score: 0.95 +/- 0.07\n"
     ]
    }
   ],
   "source": [
    "print(f\"Mean squared error: {mean_mse:.2f} +/- {std_mse:.2f}\")\n",
    "print(f\"Accuracy score: {mean_Accu_scr:.2f} +/- {std_Accu_scr:.2f}\")\n",
    "print(f\"F1 score: {mean_f1:.2f} +/- {std_f1:.2f}\")"
   ]
  },
  {
   "cell_type": "code",
   "execution_count": 14,
   "id": "66c7ae5b",
   "metadata": {},
   "outputs": [
    {
     "name": "stdout",
     "output_type": "stream",
     "text": [
      "              precision    recall  f1-score   support\n",
      "\n",
      "         1.0       0.90      0.90      0.90        10\n",
      "         2.0       0.91      0.83      0.87        12\n",
      "         3.0       0.93      1.00      0.96        13\n",
      "         4.0       0.90      0.82      0.86        11\n",
      "         5.0       0.94      1.00      0.97        15\n",
      "\n",
      "    accuracy                           0.92        61\n",
      "   macro avg       0.92      0.91      0.91        61\n",
      "weighted avg       0.92      0.92      0.92        61\n",
      "\n"
     ]
    }
   ],
   "source": [
    "# Create an SVM classifier with a linear kernel\n",
    "svm = SVC(kernel='linear', C=10, decision_function_shape='ovr')\n",
    "\n",
    "# Train the classifier on the training data\n",
    "svm.fit(zscores_Xtrain, y_train)\n",
    "\n",
    "# Predict the labels of the test set\n",
    "y_pred = svm.predict(zscores_Xtest)\n",
    "\n",
    "# Print the classification report\n",
    "print(classification_report(y_test, y_pred))"
   ]
  },
  {
   "cell_type": "code",
   "execution_count": 15,
   "id": "53144e1c",
   "metadata": {},
   "outputs": [
    {
     "data": {
      "text/plain": [
       "Text(0.5, 36.72222222222221, 'Ground Truth')"
      ]
     },
     "execution_count": 15,
     "metadata": {},
     "output_type": "execute_result"
    },
    {
     "data": {
      "image/png": "[encoded data removed]",
      "text/plain": [
       "<Figure size 600x600 with 2 Axes>"
      ]
     },
     "metadata": {},
     "output_type": "display_data"
    }
   ],
   "source": [
    "# Plot confusion matrix\n",
    "sns.set_palette(sns.color_palette())\n",
    "_, ax = plt.subplots(figsize=(6,6))\n",
    "ax = sns.heatmap(confusion_matrix(y_test, y_pred), annot=True, fmt='d', annot_kws={\"size\": 20, \"weight\": \"bold\"})  \n",
    "labels = ['1','2','3','4','5']\n",
    "ax.set_xticklabels(labels, fontsize=15);\n",
    "ax.set_yticklabels(labels, fontsize=15);\n",
    "ax.set_ylabel('Prediction', fontsize=15);\n",
    "ax.set_xlabel('Ground Truth', fontsize=15)"
   ]
  },
  {
   "cell_type": "code",
   "execution_count": 16,
   "id": "d8854e22",
   "metadata": {},
   "outputs": [
    {
     "name": "stdout",
     "output_type": "stream",
     "text": [
      "C = 1\n",
      "Accuracy: 0.8536585365853658\n",
      "F1 Score: 0.8476989294779824\n",
      "\n",
      "C = 8\n",
      "Accuracy: 0.8780487804878049\n",
      "F1 Score: 0.8751180271983715\n",
      "\n",
      "C = 10\n",
      "Accuracy: 0.8780487804878049\n",
      "F1 Score: 0.8751180271983715\n",
      "\n",
      "C = 100\n",
      "Accuracy: 0.8780487804878049\n",
      "F1 Score: 0.8751180271983715\n",
      "\n"
     ]
    }
   ],
   "source": [
    "# Define the SVM classifier\n",
    "svm = SVC()\n",
    "\n",
    "# Define the parameter grid for C\n",
    "param_grid = {'C': [1, 8, 10, 100]}\n",
    "\n",
    "# Define the grid search with 10-fold cross-validation\n",
    "grid_search = GridSearchCV(svm, param_grid, cv=10)\n",
    "\n",
    "# Perform the grid search\n",
    "grid_search.fit(X, y)\n",
    "\n",
    "# Get the results for each value of C\n",
    "results = grid_search.cv_results_\n",
    "\n",
    "# Print the accuracy and F1 score for each value of C\n",
    "for mean_score, params in zip(results['mean_test_score'], results['params']):\n",
    "    c_value = params['C']\n",
    "    svm = SVC(C=c_value)\n",
    "    scores = cross_val_score(svm, X, y, cv=10)\n",
    "    X_train, X_test, y_train, y_test = train_test_split(X, y, test_size=0.2, random_state=42)\n",
    "    \n",
    "    # Normalize z-scores\n",
    "    mean_Xtrain = X_train.mean()\n",
    "    std_Xtrain = X_train.std()\n",
    "\n",
    "    zscores_Xtrain = (X_train - mean_Xtrain)/std_Xtrain\n",
    "    zscores_Xtest = (X_test - mean_Xtrain)/std_Xtrain\n",
    "    \n",
    "    accuracy = accuracy_score(y_test, svm.fit(zscores_Xtrain, y_train).predict(zscores_Xtest))\n",
    "    f1 = f1_score(y_test, svm.fit(zscores_Xtrain, y_train).predict(zscores_Xtest), average='weighted')\n",
    "    print(\"C =\", c_value)\n",
    "    print(\"Accuracy:\", accuracy)\n",
    "    print(\"F1 Score:\", f1)\n",
    "    print()"
   ]
  },
  {
   "cell_type": "code",
   "execution_count": null,
   "id": "c6823187",
   "metadata": {},
   "outputs": [],
   "source": []
  }
 ],
 "metadata": {
  "kernelspec": {
   "display_name": "Python 3 (ipykernel)",
   "language": "python",
   "name": "python3"
  },
  "language_info": {
   "codemirror_mode": {
    "name": "ipython",
    "version": 3
   },
   "file_extension": ".py",
   "mimetype": "text/x-python",
   "name": "python",
   "nbconvert_exporter": "python",
   "pygments_lexer": "ipython3",
   "version": "3.9.12"
  }
 },
 "nbformat": 4,
 "nbformat_minor": 5
}
