{
 "cells": [
  {
   "cell_type": "code",
   "execution_count": 1,
   "id": "cbff0b39",
   "metadata": {},
   "outputs": [],
   "source": [
    "from sklearn.ensemble import RandomForestClassifier\n",
    "from sklearn import datasets\n",
    "from sklearn.model_selection import GridSearchCV,train_test_split, cross_val_score\n",
    "from sklearn.metrics import confusion_matrix,classification_report,mean_squared_error,accuracy_score, f1_score\n",
    "import pandas as pd, numpy as np, matplotlib.pyplot as plt, os, sys, seaborn as sns\n",
    "from sklearn.preprocessing import OneHotEncoder"
   ]
  },
  {
   "cell_type": "code",
   "execution_count": 5,
   "id": "efb3cd73",
   "metadata": {},
   "outputs": [],
   "source": [
    "def warn(*args, **kwargs):\n",
    "    pass\n",
    "import warnings\n",
    "warnings.warn = warn\n",
    "warnings.filterwarnings('ignore')"
   ]
  },
  {
   "cell_type": "code",
   "execution_count": 3,
   "id": "39f49eb9",
   "metadata": {},
   "outputs": [
    {
     "name": "stdout",
     "output_type": "stream",
     "text": [
      "(202, 114) (202, 1)\n"
     ]
    }
   ],
   "source": [
    "data = pd.read_csv(\"july/first_week/feat_ext64_mpu1.csv\")\n",
    "data.dtypes.value_counts()\n",
    "Class = pd.read_csv(\"july/first_week/Ymotion_resize64_fe_mpu1.csv\")\n",
    "print(data.shape,Class.shape)"
   ]
  },
  {
   "cell_type": "code",
   "execution_count": 4,
   "id": "0005076a",
   "metadata": {},
   "outputs": [],
   "source": [
    "# Load the iris dataset (as an example)\n",
    "y, X = Class, data"
   ]
  },
  {
   "cell_type": "code",
   "execution_count": 31,
   "id": "41f1c36d",
   "metadata": {},
   "outputs": [],
   "source": [
    "encoder = OneHotEncoder(sparse=False)\n",
    "y_encoded = encoder.fit_transform(y.values.reshape(-1, 1))"
   ]
  },
  {
   "cell_type": "code",
   "execution_count": 7,
   "id": "e1cc33aa",
   "metadata": {},
   "outputs": [
    {
     "data": {
      "text/plain": [
       "array([[1., 0., 0., 0., 0.],\n",
       "       [1., 0., 0., 0., 0.],\n",
       "       [1., 0., 0., 0., 0.],\n",
       "       ...,\n",
       "       [0., 0., 0., 0., 1.],\n",
       "       [0., 0., 0., 0., 1.],\n",
       "       [0., 0., 0., 0., 1.]])"
      ]
     },
     "execution_count": 7,
     "metadata": {},
     "output_type": "execute_result"
    }
   ],
   "source": [
    "y_encoded"
   ]
  },
  {
   "cell_type": "code",
   "execution_count": 8,
   "id": "1472c22c",
   "metadata": {},
   "outputs": [],
   "source": [
    "mean_X = X.mean()\n",
    "std_X = X.std()\n",
    "\n",
    "zscores_X = (X - mean_X)/std_X"
   ]
  },
  {
   "cell_type": "code",
   "execution_count": 9,
   "id": "11a7a7ac",
   "metadata": {},
   "outputs": [
    {
     "name": "stdout",
     "output_type": "stream",
     "text": [
      "Accuracy scores for each fold:\n",
      "[0.9047619 1.        1.        0.9       0.95      0.8       0.95\n",
      " 1.        1.        0.7      ]\n",
      "Mean accuracy: 0.9204761904761904\n",
      "Standard deviation of accuracy: 0.09530473858774763\n"
     ]
    }
   ],
   "source": [
    "# Create a random forest classifier\n",
    "rf_classifier = RandomForestClassifier(n_estimators = 100, min_samples_split= 2, min_samples_leaf=1)\n",
    "\n",
    "# Perform 10-fold cross-validation\n",
    "scores = cross_val_score(rf_classifier, zscores_X, y, cv=10)\n",
    "\n",
    "# Print the accuracy scores for each fold\n",
    "print(\"Accuracy scores for each fold:\")\n",
    "print(scores)\n",
    "\n",
    "# Print the mean and standard deviation of the accuracy scores\n",
    "print(\"Mean accuracy:\", np.mean(scores))\n",
    "print(\"Standard deviation of accuracy:\", np.std(scores))"
   ]
  },
  {
   "cell_type": "code",
   "execution_count": 10,
   "id": "ac304fa3",
   "metadata": {},
   "outputs": [
    {
     "name": "stdout",
     "output_type": "stream",
     "text": [
      "Best Parameters: {'max_depth': None, 'min_samples_leaf': 4, 'min_samples_split': 2}\n",
      "Best Score: 0.93\n"
     ]
    }
   ],
   "source": [
    "# Create a random forest classifier\n",
    "rf_classifier = RandomForestClassifier()\n",
    "\n",
    "# Define the parameter grid for grid search\n",
    "param_grid = {\n",
    "    'max_depth': [None, 5, 10, 15],  # Specify different values for max_depth\n",
    "    'min_samples_split': [2, 5, 10],  # Specify different values for min_samples_split\n",
    "    'min_samples_leaf': [1, 2, 4]  # Specify different values for min_samples_leaf\n",
    "}\n",
    "\n",
    "# Perform grid search with 10-fold cross-validation\n",
    "grid_search = GridSearchCV(rf_classifier, param_grid, cv=10)\n",
    "grid_search.fit(zscores_X, y)\n",
    "\n",
    "# Print the best parameter values and corresponding score\n",
    "print(\"Best Parameters:\", grid_search.best_params_)\n",
    "print(\"Best Score:\", grid_search.best_score_)"
   ]
  },
  {
   "cell_type": "code",
   "execution_count": 11,
   "id": "8dbd27d5",
   "metadata": {},
   "outputs": [],
   "source": [
    "# Split the data into train/validation/test sets\n",
    "X_train, X_test, y_train, y_test = train_test_split(X, y, test_size=0.2, random_state=42)\n",
    "X_train, X_val, y_train, y_val = train_test_split(X_train, y_train, test_size=0.25, random_state=42)"
   ]
  },
  {
   "cell_type": "code",
   "execution_count": 12,
   "id": "fd25f025",
   "metadata": {},
   "outputs": [],
   "source": [
    "mean_Xtrain = X_train.mean()\n",
    "std_Xtrain = X_train.std()\n",
    "\n",
    "zscores_Xtrain = (X_train - mean_Xtrain)/std_Xtrain\n",
    "zscores_Xtest = (X_test - mean_Xtrain)/std_Xtrain\n",
    "zscores_Xval = (X_val - mean_Xtrain)/std_Xtrain"
   ]
  },
  {
   "cell_type": "code",
   "execution_count": 13,
   "id": "594dc04f",
   "metadata": {},
   "outputs": [
    {
     "name": "stdout",
     "output_type": "stream",
     "text": [
      "Validation Accuracy: 0.9512195121951219\n",
      "Test Accuracy: 0.926829268292683\n"
     ]
    }
   ],
   "source": [
    "# Create a random forest classifier\n",
    "rf_classifier = RandomForestClassifier(n_estimators = 100, min_samples_split= 4, min_samples_leaf=2)\n",
    "# Train the model on the training set\n",
    "rf_classifier.fit(zscores_Xtrain, y_train)\n",
    "\n",
    "# Evaluate the model on the validation set\n",
    "validation_accuracy = rf_classifier.score(zscores_Xval, y_val)\n",
    "print(\"Validation Accuracy:\", validation_accuracy)\n",
    "\n",
    "# Evaluate the model on the test set\n",
    "test_accuracy = rf_classifier.score(zscores_Xtest, y_test)\n",
    "print(\"Test Accuracy:\", test_accuracy)"
   ]
  },
  {
   "cell_type": "code",
   "execution_count": 14,
   "id": "9387ccf3",
   "metadata": {},
   "outputs": [
    {
     "name": "stdout",
     "output_type": "stream",
     "text": [
      "Validation Accuracy: 1.0\n"
     ]
    }
   ],
   "source": [
    "# Evaluate the model on the validation set\n",
    "validation_accuracy = rf_classifier.score(zscores_Xtrain, y_train)\n",
    "print(\"Validation Accuracy:\", validation_accuracy)"
   ]
  },
  {
   "cell_type": "code",
   "execution_count": null,
   "id": "7b096528",
   "metadata": {},
   "outputs": [],
   "source": []
  }
 ],
 "metadata": {
  "kernelspec": {
   "display_name": "Python 3 (ipykernel)",
   "language": "python",
   "name": "python3"
  },
  "language_info": {
   "codemirror_mode": {
    "name": "ipython",
    "version": 3
   },
   "file_extension": ".py",
   "mimetype": "text/x-python",
   "name": "python",
   "nbconvert_exporter": "python",
   "pygments_lexer": "ipython3",
   "version": "3.9.12"
  }
 },
 "nbformat": 4,
 "nbformat_minor": 5
}
