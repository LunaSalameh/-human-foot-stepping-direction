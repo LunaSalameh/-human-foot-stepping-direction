{
  "nbformat": 4,
  "nbformat_minor": 0,
  "metadata": {
    "colab": {
      "provenance": [],
      "authorship_tag": "ABX9TyMMNDTNZkd0Sj0Voi5r9Q1B",
      "include_colab_link": true
    },
    "kernelspec": {
      "name": "python3",
      "display_name": "Python 3"
    },
    "language_info": {
      "name": "python"
    }
  },
  "cells": [
    {
      "cell_type": "markdown",
      "metadata": {
        "id": "view-in-github",
        "colab_type": "text"
      },
      "source": [
        "<a href=\"https://colab.research.google.com/github/LunaSalameh/-human-foot-stepping-direction/blob/main/CNN/building_network.ipynb\" target=\"_parent\"><img src=\"https://colab.research.google.com/assets/colab-badge.svg\" alt=\"Open In Colab\"/></a>"
      ]
    },
    {
      "cell_type": "code",
      "execution_count": null,
      "metadata": {
        "id": "ybzmrIervE62"
      },
      "outputs": [],
      "source": [
        "# Part 1 - Building the CNN\n",
        "\n",
        "from tensorflow.keras import Sequential\n",
        "from keras.layers import Convolution2D, BatchNormalization, MaxPooling2D, Flatten, Dense"
      ]
    },
    {
      "cell_type": "code",
      "source": [
        "# initialize the CNN\n",
        "classifier = Sequential()"
      ],
      "metadata": {
        "id": "MKp8266lv_nh"
      },
      "execution_count": null,
      "outputs": []
    },
    {
      "cell_type": "code",
      "source": [
        "# Step1 - Convolution\n",
        "classifier.add(Convolution2D(32, 1, 9, input_shape = (6, 64, 32), activation = 'relu'))"
      ],
      "metadata": {
        "id": "fHrmjpHYwAR0"
      },
      "execution_count": null,
      "outputs": []
    },
    {
      "cell_type": "code",
      "source": [
        "# Step2 - Pooling\n",
        "classifier.add(MaxPooling2D(pool_size = (1, 2)))"
      ],
      "metadata": {
        "id": "nV5TYz9WwCo1"
      },
      "execution_count": null,
      "outputs": []
    },
    {
      "cell_type": "code",
      "source": [
        "# Step3 - Normalization\n",
        "classifier.add(BatchNormalization())"
      ],
      "metadata": {
        "id": "lcjos09bwV-f"
      },
      "execution_count": null,
      "outputs": []
    },
    {
      "cell_type": "code",
      "source": [
        "# Step4 - Full connetion\n",
        "classifier.add(Dense(128, activation = 'relu'))"
      ],
      "metadata": {
        "id": "AgJ610jBwnnw"
      },
      "execution_count": null,
      "outputs": []
    },
    {
      "cell_type": "code",
      "source": [
        "# Re Step1 - Convolution\n",
        "classifier.add(Convolution2D(64, 1, 3, input_shape = (6, 32, 64), activation = 'relu'))"
      ],
      "metadata": {
        "id": "wHREYJ5iwGuo"
      },
      "execution_count": null,
      "outputs": []
    },
    {
      "cell_type": "code",
      "source": [
        "# Repeat Steps 1,2,3,4\n",
        "classifier.add(Convolution2D(128, 1, 3, input_shape = (6, 32, 128), activation = 'relu'))\n",
        "classifier.add(MaxPooling2D(pool_size = (1, 2)))\n",
        "classifier.add(BatchNormalization())\n",
        "classifier.add(Dense(256, activation = 'relu'))"
      ],
      "metadata": {
        "id": "eSoqQ_PqxBVd"
      },
      "execution_count": null,
      "outputs": []
    },
    {
      "cell_type": "code",
      "source": [
        "# Repeat Steps 1,3,4\n",
        "classifier.add(Convolution2D(128, 6, 1, input_shape = (1, 16, 128), activation = 'relu'))\n",
        "classifier.add(BatchNormalization())\n",
        "classifier.add(Dense(128, activation = 'relu'))"
      ],
      "metadata": {
        "id": "uTZa428axRT_"
      },
      "execution_count": null,
      "outputs": []
    },
    {
      "cell_type": "code",
      "source": [
        "# Step5 - Flatten\n",
        "classifier.add(Flatten())\n",
        "classifier.add(Dense(1, activation = 'sigmoid'))"
      ],
      "metadata": {
        "id": "UCdABJMmwHcH"
      },
      "execution_count": null,
      "outputs": []
    },
    {
      "cell_type": "code",
      "source": [
        "# Compiling the CNN\n",
        "classifier.compile(optimizer = 'adam', loss = 'binary_crossentropy', metrics= ['accuracy'])"
      ],
      "metadata": {
        "id": "damrVZD7wJuA"
      },
      "execution_count": null,
      "outputs": []
    },
    {
      "cell_type": "code",
      "source": [],
      "metadata": {
        "id": "D5UDomc7xrZc"
      },
      "execution_count": null,
      "outputs": []
    }
  ]
}